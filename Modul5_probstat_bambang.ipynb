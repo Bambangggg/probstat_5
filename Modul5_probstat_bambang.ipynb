{
 "cells": [
  {
   "cell_type": "code",
   "execution_count": 2,
   "id": "a88e140a-dd1e-4c70-92bb-9867fbe5776c",
   "metadata": {},
   "outputs": [
    {
     "name": "stdout",
     "output_type": "stream",
     "text": [
      "Probabilitas tinggi kurang dari 189 cm: 0.8413447460685429\n"
     ]
    }
   ],
   "source": [
    "from scipy.stats import norm\n",
    "# Menentukan rata-rata dan standar deviasi\n",
    "mean = 184 # rata-rata\n",
    "std_dev = 5 # standar deviasi\n",
    "# Menghitung probabilitas tinggi kurang dari 189 cm\n",
    "height = 189\n",
    "prob_less_than_189 = norm.cdf (height, mean, std_dev)\n",
    "# Menampilkan hasil\n",
    "print (\"Probabilitas tinggi kurang dari 189 cm:\", prob_less_than_189)"
   ]
  },
  {
   "cell_type": "code",
   "execution_count": 3,
   "id": "693530e6-f4cd-40de-80fe-9abd419d9a7f",
   "metadata": {},
   "outputs": [
    {
     "name": "stdout",
     "output_type": "stream",
     "text": [
      "Probabilitas itnggi antara 174cm dan 199cm:  0.9758999700201907\n"
     ]
    }
   ],
   "source": [
    "from scipy.stats import norm\n",
    "\n",
    "#menentukan rata-rata dan standar deviasi\n",
    "mean = 184 #rata-rata\n",
    "std_dev = 5 #standar deviasi\n",
    "\n",
    "#menghitung probabilitas tinggi kurang dari 174cm\n",
    "prob_less_than_174 = norm.cdf(174, mean, std_dev)\n",
    "\n",
    "#menghitung probabilitas tinggi kurang dari 199cm\n",
    "prob_less_than_199 = norm.cdf(199, mean, std_dev)\n",
    "\n",
    "#kemungkinan antara 174cm dan 199cm adalah selisih antara probabilitas kurang dari 199 dan kurang dari 174\n",
    "prob_between_174_and_199 = prob_less_than_199 - prob_less_than_174\n",
    "\n",
    "#menampilkan hasil\n",
    "print(\"Probabilitas itnggi antara 174cm dan 199cm: \", prob_between_174_and_199)"
   ]
  },
  {
   "cell_type": "code",
   "execution_count": 4,
   "id": "46828dcd-f1eb-4067-b80c-8fd78acc61de",
   "metadata": {},
   "outputs": [
    {
     "name": "stdout",
     "output_type": "stream",
     "text": [
      "Peluang apel yang berkualitas not good: 0.0595\n"
     ]
    }
   ],
   "source": [
    "from scipy.stats import norm\n",
    "\n",
    "#menentukan rata rata dan standar deviasi\n",
    "mean=173 \n",
    "std_dev = 34 \n",
    "\n",
    "#menghitung probabilitas apel berkualitas \"not good\" (berat kurang dari 120 gram)\n",
    "prob_not_good = norm.cdf(120, mean, std_dev)\n",
    "\n",
    "#menampilkan hasil\n",
    "print(\"Peluang apel yang berkualitas not good: {:.4f}\".format(prob_not_good))"
   ]
  },
  {
   "cell_type": "code",
   "execution_count": 5,
   "id": "13e941aa-106e-4c5c-9523-bff8e41d56ba",
   "metadata": {},
   "outputs": [
    {
     "name": "stdout",
     "output_type": "stream",
     "text": [
      "Rata rata jumlah pelanggan dalam sistem (L): 4.00\n",
      "Rata rata waktu setiap pelanggan berada dalam sistem (W): 40.00\n"
     ]
    }
   ],
   "source": [
    "#deviasi laju kedatangan dan laju pelayanan\n",
    "arrival_rate = 1/10 #pelanggan per menit\n",
    "service_rate = 1/8 #pelanggan per menit\n",
    "\n",
    "#menghitung rata rata jumlah pelanggan dalam sistem(L)\n",
    "L=arrival_rate / (service_rate - arrival_rate)\n",
    "\n",
    "#menghitung rata rata waktu setiap pelanggan berada dalam sistem (W)\n",
    "W = L / arrival_rate\n",
    "\n",
    "#menampilkan hasil\n",
    "print(\"Rata rata jumlah pelanggan dalam sistem (L): {:.2f}\".format(L))\n",
    "print(\"Rata rata waktu setiap pelanggan berada dalam sistem (W): {:.2f}\".format(W))\n"
   ]
  },
  {
   "cell_type": "code",
   "execution_count": 6,
   "id": "97dc1a5d-015c-489a-9e9b-5a186c007dd7",
   "metadata": {},
   "outputs": [
    {
     "name": "stdout",
     "output_type": "stream",
     "text": [
      "peluang seseorang dilayani antara 3 sampai 5 menit : 0.1618974\n"
     ]
    }
   ],
   "source": [
    "from scipy.stats import expon\n",
    "\n",
    "mean_service_time = 7\n",
    "\n",
    "prob_3_and_5 = expon.cdf(5, scale = mean_service_time) - expon.cdf(3, scale = mean_service_time)\n",
    "\n",
    "print('peluang seseorang dilayani antara 3 sampai 5 menit : {:.7f}'.format(prob_3_and_5))"
   ]
  },
  {
   "cell_type": "code",
   "execution_count": 7,
   "id": "dbf126fd-4580-4fa5-84de-168b5fb4a0ec",
   "metadata": {},
   "outputs": [
    {
     "name": "stdout",
     "output_type": "stream",
     "text": [
      "peluang seseorang dilayani antara 3 sampai 5 menit: 0.1618974\n"
     ]
    }
   ],
   "source": [
    "from scipy.stats import expon\n",
    "\n",
    "#rerata waktu pelayanan (mu)\n",
    "mean_service_time = 7 #menit\n",
    "\n",
    "#menghitung peluang seseorang dilayani antara 3 sampai 5 menit\n",
    "prob_between_3and5 = expon.cdf(5, scale=mean_service_time) - expon.cdf(3, scale=mean_service_time)\n",
    "\n",
    "#menampilkan hasill\n",
    "print(\"peluang seseorang dilayani antara 3 sampai 5 menit: {:.7f}\".format(prob_between_3and5))"
   ]
  },
  {
   "cell_type": "code",
   "execution_count": 8,
   "id": "2e196eab-bc7d-4289-ac93-18897b6022ae",
   "metadata": {},
   "outputs": [
    {
     "name": "stdout",
     "output_type": "stream",
     "text": [
      "Peluang lebih dari 6 pelanggan akan tiba dalam periode 2 menit berikutnya: 0.8698586\n"
     ]
    }
   ],
   "source": [
    "from scipy.stats import poisson\n",
    "\n",
    "# Rata-rata pelanggan per menit (A)\n",
    "mean_arrival_rate = 5\n",
    "\n",
    "# Menghitung peluang lebih dari 6 pelanggan tiba dalam periode 2 menit\n",
    "prob_more_than_6_arrivals = 1 - poisson.cdf(6, mu=mean_arrival_rate * 2)\n",
    "\n",
    "# Menampilkan hasil\n",
    "print(\"Peluang lebih dari 6 pelanggan akan tiba dalam periode 2 menit berikutnya: {:.7f}\".format(prob_more_than_6_arrivals))\n"
   ]
  },
  {
   "cell_type": "code",
   "execution_count": 9,
   "id": "5901db7d-2f85-4337-8bfc-0282b75edeb3",
   "metadata": {},
   "outputs": [
    {
     "name": "stdout",
     "output_type": "stream",
     "text": [
      "Tinggi sedemikian rupa sehingga 16,85% pemain basket lebih tinggi dari 188.80 cm\n"
     ]
    }
   ],
   "source": [
    " from scipy.stats import norm\n",
    "\n",
    "# Menentukan rata-rata dan standar deviasi\n",
    "mean = 184  # rata-rata\n",
    "std_dev = 5  # standar deviasi\n",
    "\n",
    "# Probabilitas tinggi lebih tinggi dari tinggi tertentu\n",
    "prob_more_than = 1 - 0.1685\n",
    "\n",
    "# Menggunakan fungsi quantile untuk menemukan tinggi yang sesuai\n",
    "height = norm.ppf(prob_more_than, mean, std_dev)\n",
    "\n",
    "# Menampilkan hasil\n",
    "print(\"Tinggi sedemikian rupa sehingga 16,85% pemain basket lebih tinggi dari {:.2f} cm\".format(height))\n"
   ]
  },
  {
   "cell_type": "code",
   "execution_count": 10,
   "id": "e5218c84-08f2-4b96-b319-d5db8bf7e4b2",
   "metadata": {},
   "outputs": [
    {
     "name": "stdout",
     "output_type": "stream",
     "text": [
      "Probabilitas kurang dari atau sama dengan 2 apel berkualitas 'not good': 0.9903771\n"
     ]
    }
   ],
   "source": [
    "from scipy.stats import binom\n",
    "\n",
    "# Menentukan parameter distribusi binomial\n",
    "n = 8  # total jumlah apel\n",
    "p = 0.06  # probabilitas apel berkualitas \"not good\"\n",
    "\n",
    "# Menghitung probabilitas jumlah apel berkualitas \"not good\" kurang dari atau sama dengan 2\n",
    "prob_not_good_or_less = binom.cdf(2, n, p)\n",
    "\n",
    "# Menampilkan hasil\n",
    "print(\"Probabilitas kurang dari atau sama dengan 2 apel berkualitas 'not good': {:.7f}\".format(prob_not_good_or_less))\n"
   ]
  },
  {
   "cell_type": "code",
   "execution_count": 11,
   "id": "ded0961e-9694-450c-924c-0953e127c5fa",
   "metadata": {},
   "outputs": [
    {
     "name": "stdout",
     "output_type": "stream",
     "text": [
      "Rata-rata jumlah pelanggan dalam sistem (L) setelah perubahan: 1.00\n",
      "Rata-rata waktu setiap pelanggan berada dalam sistem (W) setelah perubahan: 16.00\n"
     ]
    }
   ],
   "source": [
    "# Definisi laju kedatangan dan laju pelayanan\n",
    "arrival_rate_new = 1/16  # pelanggan per menit\n",
    "\n",
    "# Menghitung ulang rata-rata jumlah pelanggan dalam sistem (L)\n",
    "L_new = arrival_rate_new / (service_rate - arrival_rate_new)\n",
    "\n",
    "# Menghitung ulang rata-rata waktu setiap pelanggan berada dalam sistem (W)\n",
    "W_new = L_new / arrival_rate_new\n",
    "\n",
    "# Menampilkan hasil\n",
    "print(\"Rata-rata jumlah pelanggan dalam sistem (L) setelah perubahan: {:.2f}\".format(L_new))\n",
    "print(\"Rata-rata waktu setiap pelanggan berada dalam sistem (W) setelah perubahan: {:.2f}\".format(W_new))\n",
    "\n"
   ]
  },
  {
   "cell_type": "code",
   "execution_count": 12,
   "id": "86a92fd5-145a-4dcd-a0d1-fd1aa4edf72a",
   "metadata": {},
   "outputs": [
    {
     "name": "stdout",
     "output_type": "stream",
     "text": [
      "Peluang seseorang mendapatkan pelayanan lebih dari 8 menit: 0.3189066\n"
     ]
    }
   ],
   "source": [
    "from scipy.stats import expon\n",
    "\n",
    "# Rerata waktu pelayanan (mu)\n",
    "mean_service_time = 7  # menit\n",
    "\n",
    "# Menghitung peluang seseorang mendapatkan pelayanan lebih dari 8 menit\n",
    "prob_more_than_8_minutes = 1 - expon.cdf(8, scale=mean_service_time)\n",
    "\n",
    "# Menampilkan hasil\n",
    "print(\"Peluang seseorang mendapatkan pelayanan lebih dari 8 menit: {:.7f}\".format(prob_more_than_8_minutes))\n"
   ]
  },
  {
   "cell_type": "code",
   "execution_count": 13,
   "id": "050a4ba5-a097-4220-a067-515b2caf6d82",
   "metadata": {},
   "outputs": [
    {
     "name": "stdout",
     "output_type": "stream",
     "text": [
      "Peluang bahwa dalam 1 menit berikutnya terdapat tepat 4 pelanggan yang akan datang: 0.1754674\n"
     ]
    }
   ],
   "source": [
    "from scipy.stats import poisson\n",
    "\n",
    "# Rata-rata pelanggan per menit (A)\n",
    "mean_arrival_rate = 5\n",
    "\n",
    "# Menghitung peluang tepat 4 pelanggan akan datang dalam 1 menit\n",
    "prob_4_arrivals = poisson.pmf(4, mu=mean_arrival_rate)\n",
    "\n",
    "# Menampilkan hasil\n",
    "print(\"Peluang bahwa dalam 1 menit berikutnya terdapat tepat 4 pelanggan yang akan datang: {:.7f}\".format(prob_4_arrivals))\n"
   ]
  },
  {
   "cell_type": "code",
   "execution_count": 14,
   "id": "8e17c158-fd2c-49a6-a87a-74e62909da95",
   "metadata": {},
   "outputs": [
    {
     "name": "stdout",
     "output_type": "stream",
     "text": [
      "Rata-rata jumlah kedatangan selama periode 1 jam: 300.00\n"
     ]
    }
   ],
   "source": [
    "# Rata-rata pelanggan per menit (A)\n",
    "mean_arrival_rate = 5\n",
    "\n",
    "# Menghitung rata-rata jumlah kedatangan selama periode 1 jam\n",
    "mean_arrivals_per_hour = mean_arrival_rate * 60  # 60 menit dalam satu jam\n",
    "\n",
    "# Menampilkan hasil\n",
    "print(\"Rata-rata jumlah kedatangan selama periode 1 jam: {:.2f}\".format(mean_arrivals_per_hour))\n"
   ]
  },
  {
   "cell_type": "code",
   "execution_count": null,
   "id": "8552a5b3-1344-4474-b031-c7782db022d7",
   "metadata": {},
   "outputs": [],
   "source": []
  }
 ],
 "metadata": {
  "kernelspec": {
   "display_name": "Python 3 (ipykernel)",
   "language": "python",
   "name": "python3"
  },
  "language_info": {
   "codemirror_mode": {
    "name": "ipython",
    "version": 3
   },
   "file_extension": ".py",
   "mimetype": "text/x-python",
   "name": "python",
   "nbconvert_exporter": "python",
   "pygments_lexer": "ipython3",
   "version": "3.12.1"
  }
 },
 "nbformat": 4,
 "nbformat_minor": 5
}
